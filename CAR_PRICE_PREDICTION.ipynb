{
  "cells": [
    {
      "cell_type": "markdown",
      "metadata": {
        "id": "view-in-github",
        "colab_type": "text"
      },
      "source": [
        "<a href=\"https://colab.research.google.com/github/knsspsj19/Pythonproject/blob/main/CAR_PRICE_PREDICTION.ipynb\" target=\"_parent\"><img src=\"https://colab.research.google.com/assets/colab-badge.svg\" alt=\"Open In Colab\"/></a>"
      ]
    },
    {
      "cell_type": "code",
      "execution_count": 125,
      "id": "7aeef831",
      "metadata": {
        "id": "7aeef831"
      },
      "outputs": [],
      "source": [
        "import pandas as pd\n",
        "import numpy as np"
      ]
    },
    {
      "cell_type": "code",
      "execution_count": 126,
      "id": "4868d22a",
      "metadata": {
        "id": "4868d22a"
      },
      "outputs": [],
      "source": [
        "train=pd.read_csv(\"/content/Train_cars.csv\")\n",
        "test=pd.read_csv(\"/content/Test_cars.csv\")\n",
        "#ss=pd.read_csv(\"Sample_Submission.csv\")"
      ]
    },
    {
      "cell_type": "code",
      "execution_count": 127,
      "id": "330064b6",
      "metadata": {
        "colab": {
          "base_uri": "https://localhost:8080/"
        },
        "id": "330064b6",
        "outputId": "6b995b35-84fe-49d7-951a-c9cd6f703e2c"
      },
      "outputs": [
        {
          "output_type": "execute_result",
          "data": {
            "text/plain": [
              "Name                     0\n",
              "Location                 0\n",
              "Year                     0\n",
              "Kilometers_Driven        0\n",
              "Fuel_Type                0\n",
              "Transmission             0\n",
              "Owner_Type               0\n",
              "Mileage                341\n",
              "Engine                 106\n",
              "Power                  317\n",
              "Seats                  338\n",
              "New_Price            61934\n",
              "Price                52500\n",
              "dtype: int64"
            ]
          },
          "metadata": {},
          "execution_count": 127
        }
      ],
      "source": [
        "comb=pd.concat([train,test],axis=0)\n",
        "comb.isnull().sum()"
      ]
    },
    {
      "cell_type": "code",
      "execution_count": 128,
      "id": "b9ad85d6",
      "metadata": {
        "id": "b9ad85d6"
      },
      "outputs": [],
      "source": [
        "comb.head()\n",
        "    \n",
        "comb[\"Brand\"]=[i[0] for i in comb[\"Name\"].str.split()]"
      ]
    },
    {
      "cell_type": "code",
      "execution_count": 129,
      "id": "3aaa3c68",
      "metadata": {
        "id": "3aaa3c68"
      },
      "outputs": [],
      "source": [
        "comb[\"M1\"]=[i[1] for i in comb[\"Name\"].str.split()]\n",
        "comb[\"M2\"]=[i[2] for i in comb[\"Name\"].str.split()]\n",
        "comb[\"M3\"]=[i[-1] for i in comb[\"Name\"].str.split()]"
      ]
    },
    {
      "cell_type": "code",
      "execution_count": 130,
      "id": "d0b71378",
      "metadata": {
        "id": "d0b71378"
      },
      "outputs": [],
      "source": [
        "comb.drop(\"Name\",axis=1,inplace=True)"
      ]
    },
    {
      "cell_type": "code",
      "execution_count": 131,
      "id": "1fd17c39",
      "metadata": {
        "id": "1fd17c39"
      },
      "outputs": [],
      "source": [
        "comb[\"Location\"].value_counts()\n",
        "def loc(i):\n",
        "    if i in [\"Delhi\", \"Mumbai\", \"Bangalore\", \"Chennai\", \"Hyderabad\", \"Kolkata\", \"Ahmedabad\",\"Pune\"]:\n",
        "        return 1\n",
        "    else:\n",
        "        return 0\n",
        "    \n",
        "comb[\"Location\"]=comb[\"Location\"].apply(loc)"
      ]
    },
    {
      "cell_type": "code",
      "execution_count": 132,
      "id": "27188a6f",
      "metadata": {
        "id": "27188a6f"
      },
      "outputs": [],
      "source": [
        "comb[\"old\"]=2022-comb.Year"
      ]
    },
    {
      "cell_type": "code",
      "execution_count": 133,
      "id": "75e96035",
      "metadata": {
        "id": "75e96035"
      },
      "outputs": [],
      "source": [
        "comb.drop(\"Year\",axis=1,inplace=True)"
      ]
    },
    {
      "cell_type": "code",
      "execution_count": 134,
      "id": "474830ba",
      "metadata": {
        "id": "474830ba"
      },
      "outputs": [],
      "source": [
        "comb=pd.concat([comb,pd.get_dummies(comb.Fuel_Type,drop_first=True)],axis=1)"
      ]
    },
    {
      "cell_type": "code",
      "execution_count": 135,
      "id": "ea06bd36",
      "metadata": {
        "id": "ea06bd36"
      },
      "outputs": [],
      "source": [
        "comb.drop(\"Fuel_Type\",axis=1,inplace=True)"
      ]
    },
    {
      "cell_type": "code",
      "execution_count": 136,
      "id": "7e4d8d2c",
      "metadata": {
        "id": "7e4d8d2c"
      },
      "outputs": [],
      "source": [
        "comb.Transmission.value_counts()\n",
        "def trans(i):\n",
        "    if i==\"Manual\":\n",
        "        return 0\n",
        "    else:\n",
        "        return 1\n",
        "    \n",
        "comb[\"Transmission\"]=comb.Transmission.apply(trans)"
      ]
    },
    {
      "cell_type": "code",
      "execution_count": 137,
      "id": "51f4bf8f",
      "metadata": {
        "id": "51f4bf8f"
      },
      "outputs": [],
      "source": [
        "comb.head()\n",
        "comb.Owner_Type.value_counts()\n",
        "def own(i):\n",
        "    if i==\"Fourth & Above\":\n",
        "        return 0\n",
        "    elif i==\"Third\":\n",
        "        return 1\n",
        "    elif i==\"Second\":\n",
        "        return 2\n",
        "    else:\n",
        "        return 3\n",
        "    \n",
        "comb.Owner_Type=comb.Owner_Type.apply(own)"
      ]
    },
    {
      "cell_type": "code",
      "execution_count": 138,
      "id": "d64fb810",
      "metadata": {
        "id": "d64fb810"
      },
      "outputs": [],
      "source": [
        "comb.Mileage=pd.to_numeric(comb.Mileage.replace(regex=[\"kmpl\",\"km/kg\"],value=\"\"))"
      ]
    },
    {
      "cell_type": "code",
      "execution_count": 139,
      "id": "3b7fea0d",
      "metadata": {
        "id": "3b7fea0d"
      },
      "outputs": [],
      "source": [
        "comb.head()\n",
        "comb.Engine=pd.to_numeric(comb.Engine.replace(regex=[\"CC\"],value=\"\"))"
      ]
    },
    {
      "cell_type": "code",
      "execution_count": 140,
      "id": "03257a9a",
      "metadata": {
        "id": "03257a9a"
      },
      "outputs": [],
      "source": [
        "comb.head()\n",
        "comb.Power=pd.to_numeric(comb.Power.replace(regex=[\"bhp\",\"null\"],value=[\"\",np.NaN]))"
      ]
    },
    {
      "cell_type": "code",
      "execution_count": 141,
      "id": "b445b8c5",
      "metadata": {
        "id": "b445b8c5"
      },
      "outputs": [],
      "source": [
        "comb.head()\n",
        "#comb.New_Price=\n",
        "comb.New_Price=pd.to_numeric(comb.New_Price.replace(regex=[\"Lakh\",\"Cr\"],value=\"\"))"
      ]
    },
    {
      "cell_type": "code",
      "execution_count": 142,
      "id": "db67d36b",
      "metadata": {
        "colab": {
          "base_uri": "https://localhost:8080/"
        },
        "id": "db67d36b",
        "outputId": "eae9eae0-f7a8-4697-e237-25ebe730077a"
      },
      "outputs": [
        {
          "output_type": "execute_result",
          "data": {
            "text/plain": [
              "0.9514151476243153"
            ]
          },
          "metadata": {},
          "execution_count": 142
        }
      ],
      "source": [
        "pd.get_dummies(comb.Brand,drop_first=True)\n",
        "from sklearn.decomposition import PCA\n",
        "pca=PCA(n_components=15)\n",
        "brand_pca=pd.DataFrame(pca.fit_transform(pd.get_dummies(comb[\"Brand\"],drop_first=True)))\n",
        "sum(pca.explained_variance_ratio_)"
      ]
    },
    {
      "cell_type": "code",
      "execution_count": 143,
      "id": "278b5474",
      "metadata": {
        "colab": {
          "base_uri": "https://localhost:8080/"
        },
        "id": "278b5474",
        "outputId": "36664134-8dbc-44df-90f1-0d0a41026092"
      },
      "outputs": [
        {
          "output_type": "execute_result",
          "data": {
            "text/plain": [
              "0.11564257568464553"
            ]
          },
          "metadata": {},
          "execution_count": 143
        }
      ],
      "source": [
        "comb.M3.value_counts()\n",
        "pca=PCA(n_components=5)\n",
        "model_pca=pd.DataFrame(pca.fit_transform(pd.get_dummies(comb[[\"M1\",\"M2\",\"M3\"]],drop_first=True)),columns=[\"MP1\",\"MP2\",\"MP3\",\"MP4\",\"MP5\"])\n",
        "sum(pca.explained_variance_ratio_)"
      ]
    },
    {
      "cell_type": "code",
      "execution_count": 144,
      "id": "46660015",
      "metadata": {
        "id": "46660015"
      },
      "outputs": [],
      "source": [
        "#pd.concat([comb,brand_pca.reset_index()],axis=1)\n",
        "df=pd.concat([pd.concat([comb.reset_index(),brand_pca.reset_index()],axis=1),model_pca],axis=1).drop([\"Brand\",\"M1\",\"M2\",\"M3\"],axis=1)"
      ]
    },
    {
      "cell_type": "code",
      "execution_count": 145,
      "id": "2445751b",
      "metadata": {
        "id": "2445751b"
      },
      "outputs": [],
      "source": [
        "df=df.drop(\"index\",axis=1)"
      ]
    },
    {
      "cell_type": "code",
      "execution_count": 146,
      "id": "9070c661",
      "metadata": {
        "id": "9070c661"
      },
      "outputs": [],
      "source": [
        "df.iloc[:,:10].corr()\n",
        "df=df.sort_values([\"Transmission\",\"Seats\",\"Engine\"]).drop(\"New_Price\",axis=1)"
      ]
    },
    {
      "cell_type": "code",
      "execution_count": 147,
      "id": "5ae82c25",
      "metadata": {
        "id": "5ae82c25"
      },
      "outputs": [],
      "source": [
        "#df=df.ffill().bfill().reset_index().drop(\"index\",axis=1)\n",
        "from sklearn.impute import KNNImputer\n",
        "knn=KNNImputer(n_neighbors=5)"
      ]
    },
    {
      "cell_type": "code",
      "source": [
        "dfk=pd.DataFrame(knn.fit_transform(df),columns=df.columns)"
      ],
      "metadata": {
        "colab": {
          "base_uri": "https://localhost:8080/"
        },
        "id": "IW_mBj-Xx-Wb",
        "outputId": "ce14f506-a2cd-44e6-d7d0-f9d9d0712b42"
      },
      "id": "IW_mBj-Xx-Wb",
      "execution_count": 148,
      "outputs": [
        {
          "output_type": "stream",
          "name": "stderr",
          "text": [
            "/usr/local/lib/python3.7/dist-packages/sklearn/utils/validation.py:1692: FutureWarning: Feature names only support names that are all strings. Got feature names with dtypes: ['int', 'str']. An error will be raised in 1.2.\n",
            "  FutureWarning,\n",
            "/usr/local/lib/python3.7/dist-packages/sklearn/utils/validation.py:1692: FutureWarning: Feature names only support names that are all strings. Got feature names with dtypes: ['int', 'str']. An error will be raised in 1.2.\n",
            "  FutureWarning,\n"
          ]
        }
      ]
    },
    {
      "cell_type": "code",
      "source": [
        "df=dfk.copy()"
      ],
      "metadata": {
        "id": "BZlFTuqQxDjL"
      },
      "id": "BZlFTuqQxDjL",
      "execution_count": 149,
      "outputs": []
    },
    {
      "cell_type": "code",
      "source": [],
      "metadata": {
        "id": "9DV_8AUT_l_x"
      },
      "id": "9DV_8AUT_l_x",
      "execution_count": 149,
      "outputs": []
    },
    {
      "cell_type": "code",
      "execution_count": 150,
      "id": "a69af08c",
      "metadata": {
        "id": "a69af08c"
      },
      "outputs": [],
      "source": [
        "df.head()\n",
        "from sklearn.preprocessing import StandardScaler\n",
        "scaler=StandardScaler()\n",
        "scaled=pd.DataFrame(scaler.fit_transform(df[[\"Kilometers_Driven\",\"Mileage\",\"Engine\",\"Power\"]]),columns=[\"Kilometers_Driven_sc\",\"Mileage_sc\",\"Engine_sc\",\"Power_sc\"])"
      ]
    },
    {
      "cell_type": "code",
      "execution_count": 151,
      "id": "ba2e2ea6",
      "metadata": {
        "id": "ba2e2ea6"
      },
      "outputs": [],
      "source": [
        "df1=pd.concat([df,scaled],axis=1).drop([\"Kilometers_Driven\",\"Mileage\",\"Engine\",\"Power\"],axis=1)"
      ]
    },
    {
      "cell_type": "code",
      "source": [
        "from sklearn.preprocessing import PolynomialFeatures\n",
        "poly=PolynomialFeatures(interaction_only=True)\n",
        "pcp=PCA(n_components=40)\n",
        "y=df1[\"Price\"]\n",
        "X=pd.DataFrame(pcp.fit_transform(pd.DataFrame(poly.fit_transform(df1.drop(\"Price\",axis=1)))))\n",
        "#sum(pcp.explained_variance_ratio_)"
      ],
      "metadata": {
        "colab": {
          "base_uri": "https://localhost:8080/"
        },
        "id": "If1LM2u3_y29",
        "outputId": "b13ab5e2-5131-44e7-c8cc-b6320e3ce2fb"
      },
      "id": "If1LM2u3_y29",
      "execution_count": 152,
      "outputs": [
        {
          "output_type": "stream",
          "name": "stderr",
          "text": [
            "/usr/local/lib/python3.7/dist-packages/sklearn/utils/validation.py:1692: FutureWarning: Feature names only support names that are all strings. Got feature names with dtypes: ['int', 'str']. An error will be raised in 1.2.\n",
            "  FutureWarning,\n",
            "/usr/local/lib/python3.7/dist-packages/sklearn/utils/validation.py:1692: FutureWarning: Feature names only support names that are all strings. Got feature names with dtypes: ['int', 'str']. An error will be raised in 1.2.\n",
            "  FutureWarning,\n"
          ]
        }
      ]
    },
    {
      "cell_type": "code",
      "source": [
        "xtrain=X.iloc[:22500,:]\n",
        "ytrain=y[:22500]\n",
        "xtest=X.iloc[22500:,:]"
      ],
      "metadata": {
        "id": "_OA1nqiqEJcx"
      },
      "id": "_OA1nqiqEJcx",
      "execution_count": 153,
      "outputs": []
    },
    {
      "cell_type": "code",
      "execution_count": 154,
      "id": "21826b48",
      "metadata": {
        "id": "21826b48"
      },
      "outputs": [],
      "source": [
        "#df1.head()\n",
        "#train.shape\n",
        "#df_train=df1.iloc[:22500,:]\n",
        "#df_test=df1.iloc[22500:,:]\n",
        "#xtrain=df_train.drop(\"Price\",axis=1)\n",
        "#ytrain=df_train[\"Price\"]\n",
        "#xtest=df_test.drop(\"Price\",axis=1)\n",
        "\n"
      ]
    },
    {
      "cell_type": "code",
      "execution_count": 155,
      "id": "b6317406",
      "metadata": {
        "id": "b6317406"
      },
      "outputs": [],
      "source": [
        "from sklearn.metrics import mean_squared_error"
      ]
    },
    {
      "cell_type": "code",
      "execution_count": 156,
      "id": "f4cc5074",
      "metadata": {
        "colab": {
          "base_uri": "https://localhost:8080/"
        },
        "id": "f4cc5074",
        "outputId": "50656a48-e941-47c8-e8fc-68ed25c04a7b"
      },
      "outputs": [
        {
          "output_type": "execute_result",
          "data": {
            "text/plain": [
              "9.213948722894385"
            ]
          },
          "metadata": {},
          "execution_count": 156
        }
      ],
      "source": [
        "from sklearn.linear_model import LinearRegression\n",
        "from sklearn.model_selection import train_test_split\n",
        "x1,x2,y1,y2=train_test_split(xtrain,ytrain,test_size=0.25)\n",
        "lin=LinearRegression()\n",
        "model=lin.fit(x1,y1)\n",
        "ypred=model.predict(x2)\n",
        "mean_squared_error(y2,ypred)"
      ]
    },
    {
      "cell_type": "code",
      "execution_count": 156,
      "id": "103e22de",
      "metadata": {
        "id": "103e22de"
      },
      "outputs": [],
      "source": []
    },
    {
      "cell_type": "code",
      "execution_count": 157,
      "id": "59b2a58a",
      "metadata": {
        "id": "59b2a58a"
      },
      "outputs": [],
      "source": [
        "lin=LinearRegression()\n",
        "from lightgbm import LGBMRegressor\n",
        "lgb=LGBMRegressor()\n",
        "model=lgb.fit(xtrain,ytrain)\n",
        "preds=model.predict(xtest)\n"
      ]
    },
    {
      "cell_type": "code",
      "source": [],
      "metadata": {
        "id": "q-B_a_YHG422"
      },
      "id": "q-B_a_YHG422",
      "execution_count": 158,
      "outputs": []
    },
    {
      "cell_type": "code",
      "source": [
        "from sklearn.linear_model import Ridge,Lasso\n",
        "rd=Ridge()\n",
        "ls=Lasso()\n",
        "model=ls.fit(xtrain,ytrain)\n",
        "preds=model.predict(xtest)"
      ],
      "metadata": {
        "id": "Sj-Z46y88E70"
      },
      "id": "Sj-Z46y88E70",
      "execution_count": null,
      "outputs": []
    },
    {
      "cell_type": "code",
      "execution_count": 159,
      "id": "86effebc",
      "metadata": {
        "id": "86effebc"
      },
      "outputs": [],
      "source": [
        "sub=pd.DataFrame({\"Name\":test.Name,\"Price\":preds})\n",
        "sub.to_csv(\"c10.csv\",index=False)"
      ]
    },
    {
      "cell_type": "code",
      "source": [
        "import seaborn as sns\n",
        "#sns.scatterplot(df_train[\"S\"],df_train[\"Price\"])\n",
        "df_train.head()\n",
        "from sklearn.decomposition import PCA\n",
        "pc=PCA(n_components=1)\n",
        "xpca=pd.DataFrame(pc.fit_transform(xtrain))\n",
        "#sum(pc.explained_variance_ratio_)"
      ],
      "metadata": {
        "id": "S5Jg8yZV28Mv"
      },
      "id": "S5Jg8yZV28Mv",
      "execution_count": null,
      "outputs": []
    },
    {
      "cell_type": "code",
      "source": [
        "#sns.scatterplot(xpca,df_train[\"Price\"])\n",
        "xpca=np.array(xpca).flatten()"
      ],
      "metadata": {
        "id": "ykLZfS0k6yhh"
      },
      "id": "ykLZfS0k6yhh",
      "execution_count": null,
      "outputs": []
    },
    {
      "cell_type": "code",
      "source": [
        "sns.scatterplot(xpca,df_train[\"Price\"])"
      ],
      "metadata": {
        "id": "IvD7KUFQ7q3s"
      },
      "id": "IvD7KUFQ7q3s",
      "execution_count": null,
      "outputs": []
    }
  ],
  "metadata": {
    "kernelspec": {
      "display_name": "Python 3 (ipykernel)",
      "language": "python",
      "name": "python3"
    },
    "language_info": {
      "codemirror_mode": {
        "name": "ipython",
        "version": 3
      },
      "file_extension": ".py",
      "mimetype": "text/x-python",
      "name": "python",
      "nbconvert_exporter": "python",
      "pygments_lexer": "ipython3",
      "version": "3.9.7"
    },
    "colab": {
      "provenance": [],
      "include_colab_link": true
    }
  },
  "nbformat": 4,
  "nbformat_minor": 5
}